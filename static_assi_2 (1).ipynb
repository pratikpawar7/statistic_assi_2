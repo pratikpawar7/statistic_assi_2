{
 "cells": [
  {
   "cell_type": "code",
   "execution_count": null,
   "id": "6744ddfb-953e-4906-9bb1-e0ba9e99d4c4",
   "metadata": {},
   "outputs": [],
   "source": [
    "'''\n",
    "Q1. What are the three measures of central tendency?\n",
    "'''\n",
    "There are 3 measure of central tendency \n",
    "mean = avarage of numbers \n",
    "median = mediam number \n",
    "mode = most frequently occured quetion \n",
    "\n",
    "\n"
   ]
  },
  {
   "cell_type": "code",
   "execution_count": null,
   "id": "e86e477b-5b80-4afb-a605-b59ee57460bb",
   "metadata": {},
   "outputs": [],
   "source": [
    "'''\n",
    "Q2. What is the difference between the mean, median, and mode? How are they used to measure the\n",
    "central tendency of a dataset?\n",
    "'''\n",
    "\n",
    "mean = sum of all values / total number of values\n",
    "\n",
    "median :The median is the middle value in a dataset when the values are arranged in order.\n",
    "\n",
    "mode : The mode is the value that occurs most frequently in a dataset"
   ]
  },
  {
   "cell_type": "code",
   "execution_count": 7,
   "id": "db252068-6919-4819-b075-0cb7a3af46ad",
   "metadata": {},
   "outputs": [
    {
     "name": "stdout",
     "output_type": "stream",
     "text": [
      "177.01875\n",
      "177.0\n"
     ]
    },
    {
     "name": "stderr",
     "output_type": "stream",
     "text": [
      "/tmp/ipykernel_102/3980647369.py:12: FutureWarning: Unlike other reduction functions (e.g. `skew`, `kurtosis`), the default behavior of `mode` typically preserves the axis it acts along. In SciPy 1.11.0, this behavior will change: the default value of `keepdims` will become False, the `axis` over which the statistic is taken will be eliminated, and the value None will no longer be accepted. Set `keepdims` to True or False to avoid this warning.\n",
      "  st.mode(list1)\n"
     ]
    },
    {
     "data": {
      "text/plain": [
       "ModeResult(mode=array([177.]), count=array([3]))"
      ]
     },
     "execution_count": 7,
     "metadata": {},
     "output_type": "execute_result"
    }
   ],
   "source": [
    "'''\n",
    "Q3. Measure the three measures of central tendency for the given height data:\n",
    "[178,177,176,177,178.2,178,175,179,180,175,178.9,176.2,177,172.5,178,176.5]\n",
    "'''\n",
    "\n",
    "import numpy as np \n",
    "list1  = [178,177,176,177,178.2,178,175,179,180,175,178.9,176.2,177,172.5,178,176.5]\n",
    "print(np.mean(list1))\n",
    "print(np.median(list1))\n",
    "\n",
    "from scipy import stats as st\n",
    "st.mode(list1)"
   ]
  },
  {
   "cell_type": "code",
   "execution_count": 9,
   "id": "3fdd14ed-9531-4907-af91-8bca2714a21e",
   "metadata": {},
   "outputs": [
    {
     "data": {
      "text/plain": [
       "1.7885814036548633"
      ]
     },
     "execution_count": 9,
     "metadata": {},
     "output_type": "execute_result"
    }
   ],
   "source": [
    "'''\n",
    "Q4. Find the standard deviation for the given data:\n",
    "[178,177,176,177,178.2,178,175,179,180,175,178.9,176.2,177,172.5,178,176.5]\n",
    "'''\n",
    "\n",
    "list2 = [178,177,176,177,178.2,178,175,179,180,175,178.9,176.2,177,172.5,178,176.5]\n",
    "\n",
    "import numpy as np \n",
    "\n",
    "np.std(list2)"
   ]
  },
  {
   "cell_type": "code",
   "execution_count": null,
   "id": "f6d8c1fe-88b1-41af-9b85-cbd02bd35f6b",
   "metadata": {},
   "outputs": [],
   "source": [
    "'''\n",
    "Q5. How are measures of dispersion such as range, variance, and standard deviation used to describe\n",
    "the spread of a dataset? Provide an example.\n",
    "'''\n",
    "range - range is the difference betweeen highest value and lowest value in the dataset .\n",
    "\n",
    "variance :- variance is the spread of dataset around mean value.\n",
    "\n",
    "standard variance : is the root of variance . \n",
    "\n",
    " list = [17, 19, 21, 20, 18, 22, 20, 19, 18, 20 ]\n",
    "    \n",
    "range is 22-17 = 5 \n",
    "\n",
    "To calculate the variance, we first find the mean:\n",
    "\n",
    "mean = (17 + 19 + 21 + 20 + 18 + 22 + 20 + 19 + 18 + 20) / 10 = 19.4\n",
    "\n",
    "Next, we calculate the squared deviations from the mean:\n",
    "\n",
    "(17 - 19.4)² + (19 - 19.4)² + (21 - 19.4)² + (20 - 19.4)² + (18 - 19.4)² + (22 - 19.4)² + (20 - 19.4)² + (19 - 19.4)² + (18 - 19.4)² + (20 - 19.4)² = 36.6\n",
    "\n",
    "The variance is the average of the squared deviations:\n",
    "\n",
    "variance = 36.6 / 9 = 4.07\n",
    "\n",
    "The standard deviation is the square root of the variance:\n",
    "\n",
    "standard deviation = sqrt(4.07) = 2.02\n",
    "\n",
    "\n",
    "\n"
   ]
  },
  {
   "cell_type": "code",
   "execution_count": null,
   "id": "7cda139d-452c-4883-9011-5c7269b75914",
   "metadata": {},
   "outputs": [],
   "source": [
    "'''\n",
    "Q6. What is a Venn diagram?\n",
    "'''\n",
    "\n",
    "A Venn diagram is a visual representation of the relationships between sets of elements or concepts. \n",
    "It consists of overlapping circles or other shapes that represent the sets, with the common elements or \n",
    "characteristics shared by the sets located in the overlapping regions. \n"
   ]
  },
  {
   "cell_type": "code",
   "execution_count": null,
   "id": "28f3df4a-ee1a-4022-8d0c-72dd79593ea4",
   "metadata": {},
   "outputs": [],
   "source": [
    "'''\n",
    "Q7. For the two given sets A = (2,3,4,5,6,7) & B = (0,2,6,8,10). Find:\n",
    "(i) A intersection B \n",
    "(ii) A ⋃ B\n",
    "'''\n",
    "\n",
    "A intersection B : (2,6)  # only comman values in the A and B \n",
    " \n",
    "A U B is : (0,2,3,4,5,6,7,8,10)      # all the values present in A and B \n",
    "\n"
   ]
  },
  {
   "cell_type": "code",
   "execution_count": null,
   "id": "6ec32db5-de48-4bd5-b3bc-be4324630b8f",
   "metadata": {},
   "outputs": [],
   "source": [
    "'''\n",
    "Q8. What do you understand about skewness in data?\n",
    "'''\n",
    "\n",
    "skewness is the measurment of asymmetric of a probability distribution.\n",
    "A distribution is said to be skewed if it is not symmetrical, meaning that one tail is longer than the other. \n",
    "and skewnwss is also affects the shape of the distribution .\n",
    "\n"
   ]
  },
  {
   "cell_type": "code",
   "execution_count": null,
   "id": "42805dc7-ad57-4995-9453-0f59f27d8528",
   "metadata": {},
   "outputs": [],
   "source": [
    "'''\n",
    "Q9. If a data is right skewed then what will be the position of median with respect to mean?\n",
    "'''\n",
    "position of the median is less than mode \n",
    "median < mode "
   ]
  },
  {
   "cell_type": "code",
   "execution_count": null,
   "id": "90501b91-9d55-479d-bbeb-bf94c686130f",
   "metadata": {},
   "outputs": [],
   "source": [
    "'''\n",
    "Q10. Explain the difference between covariance and correlation. How are these measures used in\n",
    "statistical analysis?\n",
    "'''\n",
    "\n",
    "covariance : covariance is the measure of directional relationship between two random variable \n",
    "\n",
    "correlation : Correlation in statistics refers to the degree to which two or more variables are related or move together. \n",
    "            It measures the strength and direction of the linear relationship between variables.\n",
    "\n"
   ]
  },
  {
   "cell_type": "code",
   "execution_count": null,
   "id": "4991b985-df52-4f1f-aad0-22eccb87f117",
   "metadata": {},
   "outputs": [],
   "source": [
    "'''\n",
    "Q11. What is the formula for calculating the sample mean? Provide an example calculation for a\n",
    "dataset.\n",
    "'''\n",
    "\n",
    "sample mean = (sum of all values in the sample) / (number of values in the sample)\n",
    "Example calculation for a dataset of 5 numbers: 3, 5, 6, 8, 10\n",
    "\n",
    "sample mean = (3 + 5 + 6 + 8 + 10) / 5\n",
    "            = 32 / 5\n",
    "            = 6.4"
   ]
  },
  {
   "cell_type": "code",
   "execution_count": null,
   "id": "39aabbdd-34d5-431e-8ddd-cbd9a75b9d5b",
   "metadata": {},
   "outputs": [],
   "source": [
    "'''\n",
    "Q12. For a normal distribution data what is the relationship between its measure of central tendency?\n",
    "'''\n",
    "\n",
    "for nomal distribution data mean , median , mode are  all equal ."
   ]
  },
  {
   "cell_type": "code",
   "execution_count": null,
   "id": "3730fe1d-5bc0-4cc0-92db-592aff1da96a",
   "metadata": {},
   "outputs": [],
   "source": [
    "'''\n",
    "Q13. How is covariance different from correlation?\n",
    "'''\n",
    "\n",
    "Covariance and correlation are both measures of the relationship between two variables,\n",
    "but they are different in their scale and interpretation.\n",
    "\n",
    "covariance measures the joint variability of two variables, \n",
    "while correlation measures the strength and direction of the linear relationship between two variables."
   ]
  },
  {
   "cell_type": "code",
   "execution_count": 4,
   "id": "4eab4654-87a7-4a8b-bcec-b3abd116f952",
   "metadata": {},
   "outputs": [
    {
     "name": "stdout",
     "output_type": "stream",
     "text": [
      "36.666666666666664\n",
      "36.0\n",
      "96.875\n",
      "36.5\n"
     ]
    }
   ],
   "source": [
    "'''\n",
    "Q14. How do outliers affect measures of central tendency and dispersion? Provide an example.\n",
    "'''\n",
    "\n",
    "#outliers affects measures of central tendency as well as dispersion . \n",
    "'''\n",
    "in central tendency outliers affect mean more than the median and mode \n",
    "'''\n",
    "\n",
    "#example :\n",
    "import numpy as np \n",
    "    \n",
    "age = [34,45,34,23,33,34,45,34,35,36,37,38,39,40,43]\n",
    "    \n",
    "print(np.mean(age))\n",
    "print(np.median(age))\n",
    "\n",
    "age2 = [34,45,34,23,33,34,45,34,35,36,37,38,39,40,43 , 1000]\n",
    "\n",
    "print(np.mean(age2))                # there is a large difference in the mean with outliers and without outliers . \n",
    "print(np.median(age2))\n",
    "\n"
   ]
  },
  {
   "cell_type": "code",
   "execution_count": 7,
   "id": "adc2dbe2-e156-4100-92b3-f090f0c51760",
   "metadata": {},
   "outputs": [
    {
     "name": "stdout",
     "output_type": "stream",
     "text": [
      "5.3499740393970345\n",
      "233.24340156797575\n"
     ]
    }
   ],
   "source": [
    "'''\n",
    "Regarding measures of dispersion, outliers can increase the range and standard deviation of the dataset.\n",
    "\n",
    "'''\n",
    "\n",
    "print(np.std(age))\n",
    "print(np.std(age2))                   # there   is large difference in the standard deviation due to outliear "
   ]
  },
  {
   "cell_type": "code",
   "execution_count": null,
   "id": "6b9e3e9c-39da-44c0-b4eb-b95088771711",
   "metadata": {},
   "outputs": [],
   "source": []
  },
  {
   "cell_type": "code",
   "execution_count": null,
   "id": "bc094d29-f415-4838-90e1-853e03263cb5",
   "metadata": {},
   "outputs": [],
   "source": []
  },
  {
   "cell_type": "code",
   "execution_count": null,
   "id": "cf6895a2-2624-45c6-bc0a-a9c1499ef9de",
   "metadata": {},
   "outputs": [],
   "source": []
  }
 ],
 "metadata": {
  "kernelspec": {
   "display_name": "Python 3 (ipykernel)",
   "language": "python",
   "name": "python3"
  },
  "language_info": {
   "codemirror_mode": {
    "name": "ipython",
    "version": 3
   },
   "file_extension": ".py",
   "mimetype": "text/x-python",
   "name": "python",
   "nbconvert_exporter": "python",
   "pygments_lexer": "ipython3",
   "version": "3.10.8"
  }
 },
 "nbformat": 4,
 "nbformat_minor": 5
}
